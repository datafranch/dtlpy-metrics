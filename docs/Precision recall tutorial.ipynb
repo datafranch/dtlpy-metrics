{
 "cells": [
  {
   "cell_type": "markdown",
   "id": "e5fcba72-1730-41b4-afd4-b5bb1c0d5d87",
   "metadata": {},
   "source": [
    "# Precision-recall Tutorial\n",
    "\n",
    "## Precision-recall for object detection\n",
    "\n",
    "Precision-Recall (PR) plots are a useful tool to evaluate how good a set of annotations are compared to the ground truth. \n",
    "\n",
    "This tutorial will cover basics of precision and recall and shows you how to generate precision-recall plots using the Dataloop platform and SDK.\n",
    "\n",
    "### Object Detection\n",
    "\n",
    "Object detection is a computer vision task that involves identifying the presence and location of objects within an image or video. It requires not only correct classification, but also accurate localization of the object. Precision-Recall (PR) plots can be used to evaluate how well a model or annotator annotates objects. \n",
    "\n",
    "### Precision and recall\n",
    "\n",
    "In binary classification where there is one category (present or not present), a correct classification would be counted as a \"positive\".  **Precision** is then the number of correct classifications (true positives) divided by the total number of both correct classifications and incorrect classifications (true positives + false positives). Another way to imagine this is if you were trying to hit a target or a make a guess about something, how close or off base any given guess is from the true target.\n",
    "\n",
    "![Precision](../../assets/precision.jpg)"
   ]
  }
 ],
 "metadata": {
  "kernelspec": {
   "display_name": "Python 3 (ipykernel)",
   "language": "python",
   "name": "python3"
  },
  "language_info": {
   "codemirror_mode": {
    "name": "ipython",
    "version": 3
   },
   "file_extension": ".py",
   "mimetype": "text/x-python",
   "name": "python",
   "nbconvert_exporter": "python",
   "pygments_lexer": "ipython3",
   "version": "3.8.10"
  }
 },
 "nbformat": 4,
 "nbformat_minor": 5
}
