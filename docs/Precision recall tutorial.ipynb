{
 "cells": [
  {
   "cell_type": "markdown",
   "id": "e5fcba72-1730-41b4-afd4-b5bb1c0d5d87",
   "metadata": {},
   "source": [
    "# Precision-recall Tutorial\n",
    "\n",
    "## Precision-recall for object detection\n",
    "\n",
    "Precision-Recall (PR) plots are a useful tool to evaluate how good a set of annotations are compared to the ground truth. \n",
    "\n",
    "This tutorial will cover basics of precision and recall and shows you how to generate precision-recall plots using the Dataloop platform and SDK.\n",
    "\n",
    "### Object Detection\n",
    "\n",
    "Object detection is a computer vision task that involves identifying the presence and location of objects within an image or video. It requires not only correct classification, but also accurate localization of the object. Precision-Recall (PR) plots can be used to evaluate how well a model or annotator annotates objects. \n",
    "\n",
    "### Precision and recall\n",
    "\n",
    "In binary classification where there is one category (present or not present), a correct classification would be counted as a \"positive\".  **Precision** is then the number of correct classifications (true positives) divided by the total number of both correct classifications and incorrect classifications (true positives + false positives). Another way to imagine this is if you were trying to hit a target or a make a guess about something, how close or off base any given guess is from the true target.\n",
    "\n",
    "<img src=\"../../assets/precision.PNG\" alt=\"precision\" class=\"center\" width=\"200\"/>\n",
    "\n",
    "In contrast, **recall** is the number of correct classifications (true positives) divided by the total number of correct classifications and missed classifications (true positives + false negatives). Intuitively, you could imagine recall to be how well a system guesses to cover all the relevant targets.\n",
    "\n",
    "<img src=\"../../assets/recall.PNG\" alt=\"precision\" class=\"center\" width=\"200\"/>\n",
    "\n",
    "A high precision means that the model can correctly identify positive cases with a high degree of accuracy, while a high recall means that the model can better identify the positive cases in the dataset (and misses fewer of the true positive cases).\n",
    "\n",
    "## IoU\n",
    "\n",
    "Object detection requires more than simply correctly classifying an object. It also requires accurate estimation of geometry, or the limits of the bounding box that shows the localization of the object. We can compare bounding boxes with a metric called the IoU.\n",
    "\n",
    "IoU, or **Intersection over Union**, is an important metric in evaluating object detection models. It measures the overlap between the predicted bounding box and the ground truth bounding box for an object in an image. \n",
    "\n",
    "![iou_image.jpg](https://s3-us-west-2.amazonaws.com/secure.notion-static.com/3f10bb22-ef48-4b79-b1c7-65f59649dada/iou_image.jpg)\n",
    "\n",
    "The more accurate a model prediction is, the more it will overlap with the ground truth, and the smaller the area of the union will be. In other words, the better the prediction, the higher the IoU value (with a maximum of 1). \n",
    "\n",
    "Lets compare two images and see how it works."
   ]
  },
  {
   "cell_type": "code",
   "execution_count": 5,
   "id": "ea46c000-eb52-4e45-990a-cd0f88ca467f",
   "metadata": {},
   "outputs": [
    {
     "name": "stdout",
     "output_type": "stream",
     "text": [
      "Requirement already satisfied: dtlpy in c:\\users\\yaya tang\\pycharmprojects\\dtlpy-metrics\\venv\\lib\\site-packages (1.80.7)\n",
      "Requirement already satisfied: urllib3>=1.26 in c:\\users\\yaya tang\\pycharmprojects\\dtlpy-metrics\\venv\\lib\\site-packages (from dtlpy) (2.0.3)\n",
      "Requirement already satisfied: tqdm>=4.63 in c:\\users\\yaya tang\\pycharmprojects\\dtlpy-metrics\\venv\\lib\\site-packages (from dtlpy) (4.65.0)\n",
      "Requirement already satisfied: certifi>=2020.12.5 in c:\\users\\yaya tang\\pycharmprojects\\dtlpy-metrics\\venv\\lib\\site-packages (from dtlpy) (2023.5.7)\n",
      "Requirement already satisfied: webvtt-py==0.4.3 in c:\\users\\yaya tang\\pycharmprojects\\dtlpy-metrics\\venv\\lib\\site-packages (from dtlpy) (0.4.3)\n",
      "Requirement already satisfied: aiohttp>=3.8 in c:\\users\\yaya tang\\pycharmprojects\\dtlpy-metrics\\venv\\lib\\site-packages (from dtlpy) (3.8.4)\n",
      "Requirement already satisfied: requests-toolbelt>=0.9.1 in c:\\users\\yaya tang\\pycharmprojects\\dtlpy-metrics\\venv\\lib\\site-packages (from dtlpy) (1.0.0)\n",
      "Requirement already satisfied: requests>=2.25.0 in c:\\users\\yaya tang\\pycharmprojects\\dtlpy-metrics\\venv\\lib\\site-packages (from dtlpy) (2.31.0)\n",
      "Requirement already satisfied: numpy>=1.16.2 in c:\\users\\yaya tang\\pycharmprojects\\dtlpy-metrics\\venv\\lib\\site-packages (from dtlpy) (1.24.4)\n",
      "Requirement already satisfied: pandas>=0.24.2 in c:\\users\\yaya tang\\pycharmprojects\\dtlpy-metrics\\venv\\lib\\site-packages (from dtlpy) (2.0.3)\n",
      "Requirement already satisfied: tabulate==0.8.9 in c:\\users\\yaya tang\\pycharmprojects\\dtlpy-metrics\\venv\\lib\\site-packages (from dtlpy) (0.8.9)\n",
      "Requirement already satisfied: Pillow>=7.2 in c:\\users\\yaya tang\\pycharmprojects\\dtlpy-metrics\\venv\\lib\\site-packages (from dtlpy) (10.0.0)\n",
      "Requirement already satisfied: PyJWT>=2.4 in c:\\users\\yaya tang\\pycharmprojects\\dtlpy-metrics\\venv\\lib\\site-packages (from dtlpy) (2.7.0)\n",
      "Requirement already satisfied: jinja2>=2.11.3 in c:\\users\\yaya tang\\pycharmprojects\\dtlpy-metrics\\venv\\lib\\site-packages (from dtlpy) (3.1.2)\n",
      "Requirement already satisfied: attrs<=22.2.0 in c:\\users\\yaya tang\\pycharmprojects\\dtlpy-metrics\\venv\\lib\\site-packages (from dtlpy) (22.2.0)\n",
      "Requirement already satisfied: prompt-toolkit>=2.0.9 in c:\\users\\yaya tang\\pycharmprojects\\dtlpy-metrics\\venv\\lib\\site-packages (from dtlpy) (3.0.39)\n",
      "Requirement already satisfied: fuzzyfinder<=2.1.0 in c:\\users\\yaya tang\\pycharmprojects\\dtlpy-metrics\\venv\\lib\\site-packages (from dtlpy) (2.1.0)\n",
      "Requirement already satisfied: dictdiffer>=0.8.1 in c:\\users\\yaya tang\\pycharmprojects\\dtlpy-metrics\\venv\\lib\\site-packages (from dtlpy) (0.9.0)\n",
      "Requirement already satisfied: validators<=0.18.2 in c:\\users\\yaya tang\\pycharmprojects\\dtlpy-metrics\\venv\\lib\\site-packages (from dtlpy) (0.18.2)\n",
      "Requirement already satisfied: pathspec>=0.8.1 in c:\\users\\yaya tang\\pycharmprojects\\dtlpy-metrics\\venv\\lib\\site-packages (from dtlpy) (0.11.1)\n",
      "Requirement already satisfied: filelock>=3.0.12 in c:\\users\\yaya tang\\pycharmprojects\\dtlpy-metrics\\venv\\lib\\site-packages (from dtlpy) (3.12.2)\n",
      "Requirement already satisfied: diskcache>=5.4 in c:\\users\\yaya tang\\pycharmprojects\\dtlpy-metrics\\venv\\lib\\site-packages (from dtlpy) (5.6.1)\n",
      "Requirement already satisfied: redis>=3.5 in c:\\users\\yaya tang\\pycharmprojects\\dtlpy-metrics\\venv\\lib\\site-packages (from dtlpy) (4.6.0)\n",
      "Requirement already satisfied: pydantic<2 in c:\\users\\yaya tang\\pycharmprojects\\dtlpy-metrics\\venv\\lib\\site-packages (from dtlpy) (1.10.11)\n",
      "Requirement already satisfied: inquirer in c:\\users\\yaya tang\\pycharmprojects\\dtlpy-metrics\\venv\\lib\\site-packages (from dtlpy) (3.1.3)\n",
      "Requirement already satisfied: docopt in c:\\users\\yaya tang\\pycharmprojects\\dtlpy-metrics\\venv\\lib\\site-packages (from webvtt-py==0.4.3->dtlpy) (0.6.2)\n",
      "Requirement already satisfied: charset-normalizer<4.0,>=2.0 in c:\\users\\yaya tang\\pycharmprojects\\dtlpy-metrics\\venv\\lib\\site-packages (from aiohttp>=3.8->dtlpy) (3.2.0)\n",
      "Requirement already satisfied: multidict<7.0,>=4.5 in c:\\users\\yaya tang\\pycharmprojects\\dtlpy-metrics\\venv\\lib\\site-packages (from aiohttp>=3.8->dtlpy) (6.0.4)\n",
      "Requirement already satisfied: async-timeout<5.0,>=4.0.0a3 in c:\\users\\yaya tang\\pycharmprojects\\dtlpy-metrics\\venv\\lib\\site-packages (from aiohttp>=3.8->dtlpy) (4.0.2)\n",
      "Requirement already satisfied: yarl<2.0,>=1.0 in c:\\users\\yaya tang\\pycharmprojects\\dtlpy-metrics\\venv\\lib\\site-packages (from aiohttp>=3.8->dtlpy) (1.9.2)\n",
      "Requirement already satisfied: frozenlist>=1.1.1 in c:\\users\\yaya tang\\pycharmprojects\\dtlpy-metrics\\venv\\lib\\site-packages (from aiohttp>=3.8->dtlpy) (1.4.0)\n",
      "Requirement already satisfied: aiosignal>=1.1.2 in c:\\users\\yaya tang\\pycharmprojects\\dtlpy-metrics\\venv\\lib\\site-packages (from aiohttp>=3.8->dtlpy) (1.3.1)\n",
      "Requirement already satisfied: MarkupSafe>=2.0 in c:\\users\\yaya tang\\pycharmprojects\\dtlpy-metrics\\venv\\lib\\site-packages (from jinja2>=2.11.3->dtlpy) (2.1.3)\n",
      "Requirement already satisfied: python-dateutil>=2.8.2 in c:\\users\\yaya tang\\pycharmprojects\\dtlpy-metrics\\venv\\lib\\site-packages (from pandas>=0.24.2->dtlpy) (2.8.2)\n",
      "Requirement already satisfied: pytz>=2020.1 in c:\\users\\yaya tang\\pycharmprojects\\dtlpy-metrics\\venv\\lib\\site-packages (from pandas>=0.24.2->dtlpy) (2023.3)\n",
      "Requirement already satisfied: tzdata>=2022.1 in c:\\users\\yaya tang\\pycharmprojects\\dtlpy-metrics\\venv\\lib\\site-packages (from pandas>=0.24.2->dtlpy) (2023.3)\n",
      "Requirement already satisfied: wcwidth in c:\\users\\yaya tang\\pycharmprojects\\dtlpy-metrics\\venv\\lib\\site-packages (from prompt-toolkit>=2.0.9->dtlpy) (0.2.6)\n",
      "Requirement already satisfied: typing-extensions>=4.2.0 in c:\\users\\yaya tang\\pycharmprojects\\dtlpy-metrics\\venv\\lib\\site-packages (from pydantic<2->dtlpy) (4.7.1)\n",
      "Requirement already satisfied: idna<4,>=2.5 in c:\\users\\yaya tang\\pycharmprojects\\dtlpy-metrics\\venv\\lib\\site-packages (from requests>=2.25.0->dtlpy) (3.4)\n",
      "Requirement already satisfied: colorama in c:\\users\\yaya tang\\pycharmprojects\\dtlpy-metrics\\venv\\lib\\site-packages (from tqdm>=4.63->dtlpy) (0.4.6)\n",
      "Requirement already satisfied: six>=1.4.0 in c:\\users\\yaya tang\\pycharmprojects\\dtlpy-metrics\\venv\\lib\\site-packages (from validators<=0.18.2->dtlpy) (1.16.0)\n",
      "Requirement already satisfied: decorator>=3.4.0 in c:\\users\\yaya tang\\pycharmprojects\\dtlpy-metrics\\venv\\lib\\site-packages (from validators<=0.18.2->dtlpy) (5.1.1)\n",
      "Requirement already satisfied: blessed>=1.19.0 in c:\\users\\yaya tang\\pycharmprojects\\dtlpy-metrics\\venv\\lib\\site-packages (from inquirer->dtlpy) (1.20.0)\n",
      "Requirement already satisfied: python-editor>=1.0.4 in c:\\users\\yaya tang\\pycharmprojects\\dtlpy-metrics\\venv\\lib\\site-packages (from inquirer->dtlpy) (1.0.4)\n",
      "Requirement already satisfied: readchar>=3.0.6 in c:\\users\\yaya tang\\pycharmprojects\\dtlpy-metrics\\venv\\lib\\site-packages (from inquirer->dtlpy) (4.0.5)\n",
      "Requirement already satisfied: jinxed>=1.1.0 in c:\\users\\yaya tang\\pycharmprojects\\dtlpy-metrics\\venv\\lib\\site-packages (from blessed>=1.19.0->inquirer->dtlpy) (1.2.0)\n",
      "Requirement already satisfied: setuptools>=41.0 in c:\\users\\yaya tang\\pycharmprojects\\dtlpy-metrics\\venv\\lib\\site-packages (from readchar>=3.0.6->inquirer->dtlpy) (65.5.1)\n",
      "Requirement already satisfied: ansicon in c:\\users\\yaya tang\\pycharmprojects\\dtlpy-metrics\\venv\\lib\\site-packages (from jinxed>=1.1.0->blessed>=1.19.0->inquirer->dtlpy) (1.89.0)\n",
      "Collecting git+https://github.com/dataloop-ai-apps/dtlpy-metrics\n",
      "  Cloning https://github.com/dataloop-ai-apps/dtlpy-metrics to c:\\users\\yaya tang\\appdata\\local\\temp\\pip-req-build-no0p86z_\n",
      "  Resolved https://github.com/dataloop-ai-apps/dtlpy-metrics to commit 0621fbc14a1fb9dba6dd1b651001f114b578bb1a\n",
      "  Preparing metadata (setup.py): started\n",
      "  Preparing metadata (setup.py): finished with status 'done'\n",
      "Requirement already satisfied: dtlpy in c:\\users\\yaya tang\\pycharmprojects\\dtlpy-metrics\\venv\\lib\\site-packages (from dtlpymetrics==1.0.73) (1.80.7)\n",
      "Requirement already satisfied: fastapi in c:\\users\\yaya tang\\pycharmprojects\\dtlpy-metrics\\venv\\lib\\site-packages (from dtlpymetrics==1.0.73) (0.100.0)\n",
      "Requirement already satisfied: uvicorn in c:\\users\\yaya tang\\pycharmprojects\\dtlpy-metrics\\venv\\lib\\site-packages (from dtlpymetrics==1.0.73) (0.23.1)\n",
      "Requirement already satisfied: shapely>=2.0.0 in c:\\users\\yaya tang\\pycharmprojects\\dtlpy-metrics\\venv\\lib\\site-packages (from dtlpymetrics==1.0.73) (2.0.1)\n",
      "Requirement already satisfied: opencv-python in c:\\users\\yaya tang\\pycharmprojects\\dtlpy-metrics\\venv\\lib\\site-packages (from dtlpymetrics==1.0.73) (4.8.0.74)\n",
      "Requirement already satisfied: matplotlib in c:\\users\\yaya tang\\pycharmprojects\\dtlpy-metrics\\venv\\lib\\site-packages (from dtlpymetrics==1.0.73) (3.7.2)\n",
      "Requirement already satisfied: seaborn in c:\\users\\yaya tang\\pycharmprojects\\dtlpy-metrics\\venv\\lib\\site-packages (from dtlpymetrics==1.0.73) (0.12.2)\n",
      "Requirement already satisfied: numpy>=1.14 in c:\\users\\yaya tang\\pycharmprojects\\dtlpy-metrics\\venv\\lib\\site-packages (from shapely>=2.0.0->dtlpymetrics==1.0.73) (1.24.4)\n",
      "Requirement already satisfied: urllib3>=1.26 in c:\\users\\yaya tang\\pycharmprojects\\dtlpy-metrics\\venv\\lib\\site-packages (from dtlpy->dtlpymetrics==1.0.73) (2.0.3)\n",
      "Requirement already satisfied: tqdm>=4.63 in c:\\users\\yaya tang\\pycharmprojects\\dtlpy-metrics\\venv\\lib\\site-packages (from dtlpy->dtlpymetrics==1.0.73) (4.65.0)\n",
      "Requirement already satisfied: certifi>=2020.12.5 in c:\\users\\yaya tang\\pycharmprojects\\dtlpy-metrics\\venv\\lib\\site-packages (from dtlpy->dtlpymetrics==1.0.73) (2023.5.7)\n",
      "Requirement already satisfied: webvtt-py==0.4.3 in c:\\users\\yaya tang\\pycharmprojects\\dtlpy-metrics\\venv\\lib\\site-packages (from dtlpy->dtlpymetrics==1.0.73) (0.4.3)\n",
      "Requirement already satisfied: aiohttp>=3.8 in c:\\users\\yaya tang\\pycharmprojects\\dtlpy-metrics\\venv\\lib\\site-packages (from dtlpy->dtlpymetrics==1.0.73) (3.8.4)\n",
      "Requirement already satisfied: requests-toolbelt>=0.9.1 in c:\\users\\yaya tang\\pycharmprojects\\dtlpy-metrics\\venv\\lib\\site-packages (from dtlpy->dtlpymetrics==1.0.73) (1.0.0)\n",
      "Requirement already satisfied: requests>=2.25.0 in c:\\users\\yaya tang\\pycharmprojects\\dtlpy-metrics\\venv\\lib\\site-packages (from dtlpy->dtlpymetrics==1.0.73) (2.31.0)\n",
      "Requirement already satisfied: pandas>=0.24.2 in c:\\users\\yaya tang\\pycharmprojects\\dtlpy-metrics\\venv\\lib\\site-packages (from dtlpy->dtlpymetrics==1.0.73) (2.0.3)\n",
      "Requirement already satisfied: tabulate==0.8.9 in c:\\users\\yaya tang\\pycharmprojects\\dtlpy-metrics\\venv\\lib\\site-packages (from dtlpy->dtlpymetrics==1.0.73) (0.8.9)\n",
      "Requirement already satisfied: Pillow>=7.2 in c:\\users\\yaya tang\\pycharmprojects\\dtlpy-metrics\\venv\\lib\\site-packages (from dtlpy->dtlpymetrics==1.0.73) (10.0.0)\n",
      "Requirement already satisfied: PyJWT>=2.4 in c:\\users\\yaya tang\\pycharmprojects\\dtlpy-metrics\\venv\\lib\\site-packages (from dtlpy->dtlpymetrics==1.0.73) (2.7.0)\n",
      "Requirement already satisfied: jinja2>=2.11.3 in c:\\users\\yaya tang\\pycharmprojects\\dtlpy-metrics\\venv\\lib\\site-packages (from dtlpy->dtlpymetrics==1.0.73) (3.1.2)\n",
      "Requirement already satisfied: attrs<=22.2.0 in c:\\users\\yaya tang\\pycharmprojects\\dtlpy-metrics\\venv\\lib\\site-packages (from dtlpy->dtlpymetrics==1.0.73) (22.2.0)\n",
      "Requirement already satisfied: prompt-toolkit>=2.0.9 in c:\\users\\yaya tang\\pycharmprojects\\dtlpy-metrics\\venv\\lib\\site-packages (from dtlpy->dtlpymetrics==1.0.73) (3.0.39)\n",
      "Requirement already satisfied: fuzzyfinder<=2.1.0 in c:\\users\\yaya tang\\pycharmprojects\\dtlpy-metrics\\venv\\lib\\site-packages (from dtlpy->dtlpymetrics==1.0.73) (2.1.0)\n",
      "Requirement already satisfied: dictdiffer>=0.8.1 in c:\\users\\yaya tang\\pycharmprojects\\dtlpy-metrics\\venv\\lib\\site-packages (from dtlpy->dtlpymetrics==1.0.73) (0.9.0)\n",
      "Requirement already satisfied: validators<=0.18.2 in c:\\users\\yaya tang\\pycharmprojects\\dtlpy-metrics\\venv\\lib\\site-packages (from dtlpy->dtlpymetrics==1.0.73) (0.18.2)\n",
      "Requirement already satisfied: pathspec>=0.8.1 in c:\\users\\yaya tang\\pycharmprojects\\dtlpy-metrics\\venv\\lib\\site-packages (from dtlpy->dtlpymetrics==1.0.73) (0.11.1)\n",
      "Requirement already satisfied: filelock>=3.0.12 in c:\\users\\yaya tang\\pycharmprojects\\dtlpy-metrics\\venv\\lib\\site-packages (from dtlpy->dtlpymetrics==1.0.73) (3.12.2)\n",
      "Requirement already satisfied: diskcache>=5.4 in c:\\users\\yaya tang\\pycharmprojects\\dtlpy-metrics\\venv\\lib\\site-packages (from dtlpy->dtlpymetrics==1.0.73) (5.6.1)\n",
      "Requirement already satisfied: redis>=3.5 in c:\\users\\yaya tang\\pycharmprojects\\dtlpy-metrics\\venv\\lib\\site-packages (from dtlpy->dtlpymetrics==1.0.73) (4.6.0)\n",
      "Requirement already satisfied: pydantic<2 in c:\\users\\yaya tang\\pycharmprojects\\dtlpy-metrics\\venv\\lib\\site-packages (from dtlpy->dtlpymetrics==1.0.73) (1.10.11)\n",
      "Requirement already satisfied: inquirer in c:\\users\\yaya tang\\pycharmprojects\\dtlpy-metrics\\venv\\lib\\site-packages (from dtlpy->dtlpymetrics==1.0.73) (3.1.3)\n",
      "Requirement already satisfied: docopt in c:\\users\\yaya tang\\pycharmprojects\\dtlpy-metrics\\venv\\lib\\site-packages (from webvtt-py==0.4.3->dtlpy->dtlpymetrics==1.0.73) (0.6.2)\n",
      "Requirement already satisfied: starlette<0.28.0,>=0.27.0 in c:\\users\\yaya tang\\pycharmprojects\\dtlpy-metrics\\venv\\lib\\site-packages (from fastapi->dtlpymetrics==1.0.73) (0.27.0)\n",
      "Requirement already satisfied: typing-extensions>=4.5.0 in c:\\users\\yaya tang\\pycharmprojects\\dtlpy-metrics\\venv\\lib\\site-packages (from fastapi->dtlpymetrics==1.0.73) (4.7.1)\n",
      "Requirement already satisfied: contourpy>=1.0.1 in c:\\users\\yaya tang\\pycharmprojects\\dtlpy-metrics\\venv\\lib\\site-packages (from matplotlib->dtlpymetrics==1.0.73) (1.1.0)\n",
      "Requirement already satisfied: cycler>=0.10 in c:\\users\\yaya tang\\pycharmprojects\\dtlpy-metrics\\venv\\lib\\site-packages (from matplotlib->dtlpymetrics==1.0.73) (0.11.0)\n",
      "Requirement already satisfied: fonttools>=4.22.0 in c:\\users\\yaya tang\\pycharmprojects\\dtlpy-metrics\\venv\\lib\\site-packages (from matplotlib->dtlpymetrics==1.0.73) (4.41.0)\n",
      "Requirement already satisfied: kiwisolver>=1.0.1 in c:\\users\\yaya tang\\pycharmprojects\\dtlpy-metrics\\venv\\lib\\site-packages (from matplotlib->dtlpymetrics==1.0.73) (1.4.4)\n",
      "Requirement already satisfied: packaging>=20.0 in c:\\users\\yaya tang\\pycharmprojects\\dtlpy-metrics\\venv\\lib\\site-packages (from matplotlib->dtlpymetrics==1.0.73) (23.1)\n",
      "Requirement already satisfied: pyparsing<3.1,>=2.3.1 in c:\\users\\yaya tang\\pycharmprojects\\dtlpy-metrics\\venv\\lib\\site-packages (from matplotlib->dtlpymetrics==1.0.73) (3.0.9)\n",
      "Requirement already satisfied: python-dateutil>=2.7 in c:\\users\\yaya tang\\pycharmprojects\\dtlpy-metrics\\venv\\lib\\site-packages (from matplotlib->dtlpymetrics==1.0.73) (2.8.2)\n",
      "Requirement already satisfied: importlib-resources>=3.2.0 in c:\\users\\yaya tang\\pycharmprojects\\dtlpy-metrics\\venv\\lib\\site-packages (from matplotlib->dtlpymetrics==1.0.73) (6.0.0)\n",
      "Requirement already satisfied: click>=7.0 in c:\\users\\yaya tang\\pycharmprojects\\dtlpy-metrics\\venv\\lib\\site-packages (from uvicorn->dtlpymetrics==1.0.73) (8.1.5)\n",
      "Requirement already satisfied: h11>=0.8 in c:\\users\\yaya tang\\pycharmprojects\\dtlpy-metrics\\venv\\lib\\site-packages (from uvicorn->dtlpymetrics==1.0.73) (0.14.0)\n",
      "Requirement already satisfied: charset-normalizer<4.0,>=2.0 in c:\\users\\yaya tang\\pycharmprojects\\dtlpy-metrics\\venv\\lib\\site-packages (from aiohttp>=3.8->dtlpy->dtlpymetrics==1.0.73) (3.2.0)\n",
      "Requirement already satisfied: multidict<7.0,>=4.5 in c:\\users\\yaya tang\\pycharmprojects\\dtlpy-metrics\\venv\\lib\\site-packages (from aiohttp>=3.8->dtlpy->dtlpymetrics==1.0.73) (6.0.4)\n",
      "Requirement already satisfied: async-timeout<5.0,>=4.0.0a3 in c:\\users\\yaya tang\\pycharmprojects\\dtlpy-metrics\\venv\\lib\\site-packages (from aiohttp>=3.8->dtlpy->dtlpymetrics==1.0.73) (4.0.2)\n",
      "Requirement already satisfied: yarl<2.0,>=1.0 in c:\\users\\yaya tang\\pycharmprojects\\dtlpy-metrics\\venv\\lib\\site-packages (from aiohttp>=3.8->dtlpy->dtlpymetrics==1.0.73) (1.9.2)\n",
      "Requirement already satisfied: frozenlist>=1.1.1 in c:\\users\\yaya tang\\pycharmprojects\\dtlpy-metrics\\venv\\lib\\site-packages (from aiohttp>=3.8->dtlpy->dtlpymetrics==1.0.73) (1.4.0)\n",
      "Requirement already satisfied: aiosignal>=1.1.2 in c:\\users\\yaya tang\\pycharmprojects\\dtlpy-metrics\\venv\\lib\\site-packages (from aiohttp>=3.8->dtlpy->dtlpymetrics==1.0.73) (1.3.1)\n",
      "Requirement already satisfied: colorama in c:\\users\\yaya tang\\pycharmprojects\\dtlpy-metrics\\venv\\lib\\site-packages (from click>=7.0->uvicorn->dtlpymetrics==1.0.73) (0.4.6)\n",
      "Requirement already satisfied: zipp>=3.1.0 in c:\\users\\yaya tang\\pycharmprojects\\dtlpy-metrics\\venv\\lib\\site-packages (from importlib-resources>=3.2.0->matplotlib->dtlpymetrics==1.0.73) (3.16.2)\n",
      "Requirement already satisfied: MarkupSafe>=2.0 in c:\\users\\yaya tang\\pycharmprojects\\dtlpy-metrics\\venv\\lib\\site-packages (from jinja2>=2.11.3->dtlpy->dtlpymetrics==1.0.73) (2.1.3)\n",
      "Requirement already satisfied: pytz>=2020.1 in c:\\users\\yaya tang\\pycharmprojects\\dtlpy-metrics\\venv\\lib\\site-packages (from pandas>=0.24.2->dtlpy->dtlpymetrics==1.0.73) (2023.3)\n",
      "Requirement already satisfied: tzdata>=2022.1 in c:\\users\\yaya tang\\pycharmprojects\\dtlpy-metrics\\venv\\lib\\site-packages (from pandas>=0.24.2->dtlpy->dtlpymetrics==1.0.73) (2023.3)\n",
      "Requirement already satisfied: wcwidth in c:\\users\\yaya tang\\pycharmprojects\\dtlpy-metrics\\venv\\lib\\site-packages (from prompt-toolkit>=2.0.9->dtlpy->dtlpymetrics==1.0.73) (0.2.6)\n",
      "Requirement already satisfied: six>=1.5 in c:\\users\\yaya tang\\pycharmprojects\\dtlpy-metrics\\venv\\lib\\site-packages (from python-dateutil>=2.7->matplotlib->dtlpymetrics==1.0.73) (1.16.0)\n",
      "Requirement already satisfied: idna<4,>=2.5 in c:\\users\\yaya tang\\pycharmprojects\\dtlpy-metrics\\venv\\lib\\site-packages (from requests>=2.25.0->dtlpy->dtlpymetrics==1.0.73) (3.4)\n",
      "Requirement already satisfied: anyio<5,>=3.4.0 in c:\\users\\yaya tang\\pycharmprojects\\dtlpy-metrics\\venv\\lib\\site-packages (from starlette<0.28.0,>=0.27.0->fastapi->dtlpymetrics==1.0.73) (3.7.1)\n",
      "Requirement already satisfied: decorator>=3.4.0 in c:\\users\\yaya tang\\pycharmprojects\\dtlpy-metrics\\venv\\lib\\site-packages (from validators<=0.18.2->dtlpy->dtlpymetrics==1.0.73) (5.1.1)\n",
      "Requirement already satisfied: blessed>=1.19.0 in c:\\users\\yaya tang\\pycharmprojects\\dtlpy-metrics\\venv\\lib\\site-packages (from inquirer->dtlpy->dtlpymetrics==1.0.73) (1.20.0)\n",
      "Requirement already satisfied: python-editor>=1.0.4 in c:\\users\\yaya tang\\pycharmprojects\\dtlpy-metrics\\venv\\lib\\site-packages (from inquirer->dtlpy->dtlpymetrics==1.0.73) (1.0.4)\n",
      "Requirement already satisfied: readchar>=3.0.6 in c:\\users\\yaya tang\\pycharmprojects\\dtlpy-metrics\\venv\\lib\\site-packages (from inquirer->dtlpy->dtlpymetrics==1.0.73) (4.0.5)\n",
      "Requirement already satisfied: sniffio>=1.1 in c:\\users\\yaya tang\\pycharmprojects\\dtlpy-metrics\\venv\\lib\\site-packages (from anyio<5,>=3.4.0->starlette<0.28.0,>=0.27.0->fastapi->dtlpymetrics==1.0.73) (1.3.0)\n",
      "Requirement already satisfied: exceptiongroup in c:\\users\\yaya tang\\pycharmprojects\\dtlpy-metrics\\venv\\lib\\site-packages (from anyio<5,>=3.4.0->starlette<0.28.0,>=0.27.0->fastapi->dtlpymetrics==1.0.73) (1.1.2)\n",
      "Requirement already satisfied: jinxed>=1.1.0 in c:\\users\\yaya tang\\pycharmprojects\\dtlpy-metrics\\venv\\lib\\site-packages (from blessed>=1.19.0->inquirer->dtlpy->dtlpymetrics==1.0.73) (1.2.0)\n",
      "Requirement already satisfied: setuptools>=41.0 in c:\\users\\yaya tang\\pycharmprojects\\dtlpy-metrics\\venv\\lib\\site-packages (from readchar>=3.0.6->inquirer->dtlpy->dtlpymetrics==1.0.73) (65.5.1)\n",
      "Requirement already satisfied: ansicon in c:\\users\\yaya tang\\pycharmprojects\\dtlpy-metrics\\venv\\lib\\site-packages (from jinxed>=1.1.0->blessed>=1.19.0->inquirer->dtlpy->dtlpymetrics==1.0.73) (1.89.0)\n",
      "Building wheels for collected packages: dtlpymetrics\n",
      "  Building wheel for dtlpymetrics (setup.py): started\n",
      "  Building wheel for dtlpymetrics (setup.py): finished with status 'done'\n",
      "  Created wheel for dtlpymetrics: filename=dtlpymetrics-1.0.73-py3-none-any.whl size=31733 sha256=c8f7c0ee0583ba14f4e74bc8e66ace8cadcdd3acc2f285475dd93a3426493847\n",
      "  Stored in directory: C:\\Users\\Yaya Tang\\AppData\\Local\\Temp\\pip-ephem-wheel-cache-cpdm8eug\\wheels\\f5\\b3\\19\\4913e4960622d21f6972c6c0699b2d258c648b85406a65a648\n",
      "Successfully built dtlpymetrics\n",
      "Installing collected packages: dtlpymetrics\n",
      "Successfully installed dtlpymetrics-1.0.73\n"
     ]
    },
    {
     "name": "stderr",
     "output_type": "stream",
     "text": [
      "  Running command git clone --filter=blob:none --quiet https://github.com/dataloop-ai-apps/dtlpy-metrics 'C:\\Users\\Yaya Tang\\AppData\\Local\\Temp\\pip-req-build-no0p86z_'\n"
     ]
    }
   ],
   "source": [
    "!pip install dtlpy\n",
    "!pip install git+https://github.com/dataloop-ai-apps/dtlpy-metrics\n",
    "\n",
    "import dtlpy as dl"
   ]
  },
  {
   "cell_type": "markdown",
   "id": "699f659b-3fe6-4228-9237-9bcec862cbfe",
   "metadata": {},
   "source": [
    "Make sure you're logged into the Dataloop platform, and then get some items and annotations."
   ]
  },
  {
   "cell_type": "code",
   "execution_count": 8,
   "id": "878c74e8-f6ab-42ae-b698-0ec1119116d3",
   "metadata": {},
   "outputs": [
    {
     "name": "stderr",
     "output_type": "stream",
     "text": [
      "[2023-08-27 10:00:58][ERR][dtlpy:v1.80.7][services.api_client:1337] [Response <404>][Reason: Not Found][Text: {\"status\":404,\"message\":\"item not found while resolving dataset\"}]\n"
     ]
    },
    {
     "ename": "NotFound",
     "evalue": "('404', 'item not found while resolving dataset')",
     "output_type": "error",
     "traceback": [
      "\u001b[1;31m---------------------------------------------------------------------------\u001b[0m",
      "\u001b[1;31mNotFound\u001b[0m                                  Traceback (most recent call last)",
      "Cell \u001b[1;32mIn[8], line 1\u001b[0m\n\u001b[1;32m----> 1\u001b[0m first_item \u001b[38;5;241m=\u001b[39m \u001b[43mdl\u001b[49m\u001b[38;5;241;43m.\u001b[39;49m\u001b[43mitems\u001b[49m\u001b[38;5;241;43m.\u001b[39;49m\u001b[43mget\u001b[49m\u001b[43m(\u001b[49m\u001b[43mitem_id\u001b[49m\u001b[38;5;241;43m=\u001b[39;49m\u001b[38;5;124;43m'\u001b[39;49m\u001b[38;5;124;43m6214bc0d3750a50f50c44841\u001b[39;49m\u001b[38;5;124;43m'\u001b[39;49m\u001b[43m)\u001b[49m\n\u001b[0;32m      2\u001b[0m second_item \u001b[38;5;241m=\u001b[39m dl\u001b[38;5;241m.\u001b[39mitems\u001b[38;5;241m.\u001b[39mget(item_id\u001b[38;5;241m=\u001b[39m\u001b[38;5;124m'\u001b[39m\u001b[38;5;124m6214be90fed92a9f043ba217\u001b[39m\u001b[38;5;124m'\u001b[39m)\n\u001b[0;32m      3\u001b[0m first_annotations \u001b[38;5;241m=\u001b[39m first_item\u001b[38;5;241m.\u001b[39mannotations\u001b[38;5;241m.\u001b[39mlist()\n",
      "File \u001b[1;32m~\\PycharmProjects\\dtlpy-metrics\\venv\\lib\\site-packages\\dtlpy\\repositories\\items.py:267\u001b[0m, in \u001b[0;36mItems.get\u001b[1;34m(self, filepath, item_id, fetch, is_dir)\u001b[0m\n\u001b[0;32m    261\u001b[0m             logger\u001b[38;5;241m.\u001b[39mwarning(\n\u001b[0;32m    262\u001b[0m                 \u001b[38;5;124m\"\u001b[39m\u001b[38;5;124mMismatch found in items.get: filepath is different then item.filename: \u001b[39m\u001b[38;5;124m\"\u001b[39m\n\u001b[0;32m    263\u001b[0m                 \u001b[38;5;124m\"\u001b[39m\u001b[38;5;132;01m{!r}\u001b[39;00m\u001b[38;5;124m != \u001b[39m\u001b[38;5;132;01m{!r}\u001b[39;00m\u001b[38;5;124m\"\u001b[39m\u001b[38;5;241m.\u001b[39mformat(\n\u001b[0;32m    264\u001b[0m                     filepath,\n\u001b[0;32m    265\u001b[0m                     item\u001b[38;5;241m.\u001b[39mfilename))\n\u001b[0;32m    266\u001b[0m     \u001b[38;5;28;01melse\u001b[39;00m:\n\u001b[1;32m--> 267\u001b[0m         \u001b[38;5;28;01mraise\u001b[39;00m \u001b[43mexceptions\u001b[49m\u001b[38;5;241;43m.\u001b[39;49m\u001b[43mPlatformException\u001b[49m\u001b[43m(\u001b[49m\u001b[43mresponse\u001b[49m\u001b[43m)\u001b[49m\n\u001b[0;32m    268\u001b[0m \u001b[38;5;28;01melif\u001b[39;00m filepath \u001b[38;5;129;01mis\u001b[39;00m \u001b[38;5;129;01mnot\u001b[39;00m \u001b[38;5;28;01mNone\u001b[39;00m:\n\u001b[0;32m    269\u001b[0m     filters \u001b[38;5;241m=\u001b[39m entities\u001b[38;5;241m.\u001b[39mFilters()\n",
      "File \u001b[1;32m~\\PycharmProjects\\dtlpy-metrics\\venv\\lib\\site-packages\\dtlpy\\exceptions.py:49\u001b[0m, in \u001b[0;36mPlatformException.__init__\u001b[1;34m(self, error, message)\u001b[0m\n\u001b[0;32m     46\u001b[0m     \u001b[38;5;28mself\u001b[39m\u001b[38;5;241m.\u001b[39mmessage \u001b[38;5;241m=\u001b[39m message\n\u001b[0;32m     48\u001b[0m \u001b[38;5;28;01mif\u001b[39;00m \u001b[38;5;28mself\u001b[39m\u001b[38;5;241m.\u001b[39mstatus_code \u001b[38;5;129;01min\u001b[39;00m exceptions:\n\u001b[1;32m---> 49\u001b[0m     \u001b[38;5;28;01mraise\u001b[39;00m exceptions[\u001b[38;5;28mself\u001b[39m\u001b[38;5;241m.\u001b[39mstatus_code](status_code\u001b[38;5;241m=\u001b[39m\u001b[38;5;28mself\u001b[39m\u001b[38;5;241m.\u001b[39mstatus_code, message\u001b[38;5;241m=\u001b[39m\u001b[38;5;28mself\u001b[39m\u001b[38;5;241m.\u001b[39mmessage)\n\u001b[0;32m     50\u001b[0m \u001b[38;5;28;01melse\u001b[39;00m:\n\u001b[0;32m     51\u001b[0m     \u001b[38;5;28;01mraise\u001b[39;00m UnknownException(status_code\u001b[38;5;241m=\u001b[39m\u001b[38;5;28mself\u001b[39m\u001b[38;5;241m.\u001b[39mstatus_code, message\u001b[38;5;241m=\u001b[39m\u001b[38;5;28mself\u001b[39m\u001b[38;5;241m.\u001b[39mmessage)\n",
      "\u001b[1;31mNotFound\u001b[0m: ('404', 'item not found while resolving dataset')"
     ]
    }
   ],
   "source": [
    "first_item = dl.items.get(item_id='6214bc0d3750a50f50c44841')\n",
    "second_item = dl.items.get(item_id='6214be90fed92a9f043ba217')\n",
    "first_annotations = first_item.annotations.list()\n",
    "second_annotations = second_item.annotations.list()"
   ]
  },
  {
   "cell_type": "markdown",
   "id": "979d7ad5-b622-4f98-be63-aafda57969d4",
   "metadata": {},
   "source": [
    "To compare these two sets of annotations, we need to use the `dtlpymetrics` app."
   ]
  },
  {
   "cell_type": "code",
   "execution_count": 9,
   "id": "681e452d-6452-46c0-9067-7e824a7e92bb",
   "metadata": {},
   "outputs": [],
   "source": [
    "from dtlpymetrics import precision_recall\n",
    "# calc_precision_recall, plot_precision_recall"
   ]
  },
  {
   "cell_type": "markdown",
   "id": "0f76c95e-e1d8-4d1f-86f1-c154b5e5a5f8",
   "metadata": {},
   "source": [
    "Precision-plots will be calculated from model scores calculated on a dataset. \n",
    "\n",
    "\n",
    "\n"
   ]
  },
  {
   "cell_type": "code",
   "execution_count": null,
   "id": "63c5acdb-8f9a-4888-9695-0cd6ac34cd89",
   "metadata": {},
   "outputs": [],
   "source": []
  }
 ],
 "metadata": {
  "kernelspec": {
   "display_name": "Python 3 (ipykernel)",
   "language": "python",
   "name": "python3"
  },
  "language_info": {
   "codemirror_mode": {
    "name": "ipython",
    "version": 3
   },
   "file_extension": ".py",
   "mimetype": "text/x-python",
   "name": "python",
   "nbconvert_exporter": "python",
   "pygments_lexer": "ipython3",
   "version": "3.8.10"
  }
 },
 "nbformat": 4,
 "nbformat_minor": 5
}
